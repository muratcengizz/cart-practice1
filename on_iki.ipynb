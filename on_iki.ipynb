{
 "cells": [
  {
   "cell_type": "markdown",
   "id": "d23d58bf-c509-442c-b880-ba8105659f0d",
   "metadata": {},
   "source": [
    "### Bir restoranın günlük gelirlerini etkileyen faktörler isimli bir veri seti üzerinde karar ağaçları modeli kuracağız."
   ]
  },
  {
   "cell_type": "code",
   "execution_count": 33,
   "id": "7ab9cea2-253c-4840-b2a5-30729940cb6c",
   "metadata": {},
   "outputs": [],
   "source": [
    "import numpy as np\n",
    "import pandas as pd\n",
    "import seaborn as sns\n",
    "import matplotlib.pyplot as plt\n",
    "from sklearn.tree import DecisionTreeRegressor\n",
    "from sklearn.model_selection import train_test_split, GridSearchCV\n",
    "from sklearn.metrics import mean_squared_error, r2_score"
   ]
  },
  {
   "cell_type": "code",
   "execution_count": 34,
   "id": "61594144-5846-466b-8e21-24514813bacc",
   "metadata": {},
   "outputs": [
    {
     "data": {
      "text/html": [
       "<div>\n",
       "<style scoped>\n",
       "    .dataframe tbody tr th:only-of-type {\n",
       "        vertical-align: middle;\n",
       "    }\n",
       "\n",
       "    .dataframe tbody tr th {\n",
       "        vertical-align: top;\n",
       "    }\n",
       "\n",
       "    .dataframe thead th {\n",
       "        text-align: right;\n",
       "    }\n",
       "</style>\n",
       "<table border=\"1\" class=\"dataframe\">\n",
       "  <thead>\n",
       "    <tr style=\"text-align: right;\">\n",
       "      <th></th>\n",
       "      <th>Hava Durumu</th>\n",
       "      <th>Masa Sayısı</th>\n",
       "      <th>Reklam Harcamaları</th>\n",
       "      <th>Günlük Gelir</th>\n",
       "    </tr>\n",
       "  </thead>\n",
       "  <tbody>\n",
       "    <tr>\n",
       "      <th>0</th>\n",
       "      <td>Güneşli</td>\n",
       "      <td>50</td>\n",
       "      <td>1000</td>\n",
       "      <td>5500</td>\n",
       "    </tr>\n",
       "    <tr>\n",
       "      <th>1</th>\n",
       "      <td>Yağmurlu</td>\n",
       "      <td>30</td>\n",
       "      <td>500</td>\n",
       "      <td>3500</td>\n",
       "    </tr>\n",
       "    <tr>\n",
       "      <th>2</th>\n",
       "      <td>Bulutlu</td>\n",
       "      <td>40</td>\n",
       "      <td>800</td>\n",
       "      <td>4500</td>\n",
       "    </tr>\n",
       "    <tr>\n",
       "      <th>3</th>\n",
       "      <td>Güneşli</td>\n",
       "      <td>45</td>\n",
       "      <td>1200</td>\n",
       "      <td>6000</td>\n",
       "    </tr>\n",
       "    <tr>\n",
       "      <th>4</th>\n",
       "      <td>Yağmurlu</td>\n",
       "      <td>35</td>\n",
       "      <td>600</td>\n",
       "      <td>4000</td>\n",
       "    </tr>\n",
       "  </tbody>\n",
       "</table>\n",
       "</div>"
      ],
      "text/plain": [
       "  Hava Durumu  Masa Sayısı  Reklam Harcamaları  Günlük Gelir\n",
       "0     Güneşli           50                1000          5500\n",
       "1    Yağmurlu           30                 500          3500\n",
       "2     Bulutlu           40                 800          4500\n",
       "3     Güneşli           45                1200          6000\n",
       "4    Yağmurlu           35                 600          4000"
      ]
     },
     "execution_count": 34,
     "metadata": {},
     "output_type": "execute_result"
    }
   ],
   "source": [
    "data = {\n",
    "    'Hava Durumu': ['Güneşli', 'Yağmurlu', 'Bulutlu', 'Güneşli', 'Yağmurlu', 'Bulutlu', 'Güneşli'],\n",
    "    'Masa Sayısı': [50, 30, 40, 45, 35, 55, 60],\n",
    "    'Reklam Harcamaları': [1000, 500, 800, 1200, 600, 1500, 2000],\n",
    "    'Günlük Gelir': [5500, 3500, 4500, 6000, 4000, 7000, 8000]\n",
    "}\n",
    "\n",
    "data = pd.DataFrame(data)\n",
    "data.head()"
   ]
  },
  {
   "cell_type": "code",
   "execution_count": 35,
   "id": "1f4a07b4-2467-42a1-a92c-ccd8d9dfd57c",
   "metadata": {},
   "outputs": [
    {
     "data": {
      "image/png": "[encoded data removed]",
      "text/plain": [
       "<Figure size 864x432 with 1 Axes>"
      ]
     },
     "metadata": {
      "needs_background": "light"
     },
     "output_type": "display_data"
    }
   ],
   "source": [
    "plt.figure(figsize=(12,6))\n",
    "plt.scatter(data['Masa Sayısı'], data['Günlük Gelir'], color='blue', label='Günlük Gelir')\n",
    "plt.xlabel('Masa Sayısı')\n",
    "plt.ylabel('Günlük Gelir')\n",
    "plt.title('Restoran Geliri - Masa Sayısı İlişkisi')\n",
    "plt.legend()\n",
    "plt.show()"
   ]
  },
  {
   "cell_type": "code",
   "execution_count": 36,
   "id": "f83db913-0abc-4728-96b1-c8763fc7048e",
   "metadata": {},
   "outputs": [
    {
     "data": {
      "image/png": "[encoded data removed]",
      "text/plain": [
       "<Figure size 864x432 with 1 Axes>"
      ]
     },
     "metadata": {
      "needs_background": "light"
     },
     "output_type": "display_data"
    }
   ],
   "source": [
    "plt.figure(figsize=(12,6))\n",
    "sns.boxplot(data=data, x='Hava Durumu', y='Günlük Gelir')\n",
    "plt.xlabel('Hava Durumu')\n",
    "plt.ylabel('Günlük Gelir')\n",
    "plt.title('Restoran Geliri - Hava Durumu İlişkisi')\n",
    "plt.show()"
   ]
  },
  {
   "cell_type": "code",
   "execution_count": 37,
   "id": "d98fc316-0771-4b50-89b3-bbdc015eb343",
   "metadata": {},
   "outputs": [
    {
     "data": {
      "text/plain": [
       "array(['Güneşli', 'Yağmurlu', 'Bulutlu'], dtype=object)"
      ]
     },
     "execution_count": 37,
     "metadata": {},
     "output_type": "execute_result"
    }
   ],
   "source": [
    "data['Hava Durumu'].unique()"
   ]
  },
  {
   "cell_type": "code",
   "execution_count": 38,
   "id": "d3d590d2-2101-49bf-b96d-df4cc29aa5c4",
   "metadata": {},
   "outputs": [],
   "source": [
    "# Hava Durumu değişkenini sayısal değişkene çevirdik\n",
    "data['Hava Durumu'] = data['Hava Durumu'].map({'Güneşli':0, 'Yağmurlu':1, 'Bulutlu':2})"
   ]
  },
  {
   "cell_type": "code",
   "execution_count": 39,
   "id": "152dce51-5bb6-42bb-802d-8ba7b4a599be",
   "metadata": {},
   "outputs": [],
   "source": [
    "# Bağımlı ve bağımsız değişkenlerimizi oluşturalım.\n",
    "X = data.drop(['Hava Durumu', 'Günlük Gelir'], axis=1)\n",
    "y = data['Günlük Gelir']"
   ]
  },
  {
   "cell_type": "code",
   "execution_count": 40,
   "id": "19561ac9-9a83-4bca-9dea-aeaf6fff3609",
   "metadata": {},
   "outputs": [],
   "source": [
    "# eğitim ve test setlerimizi ayıralım.\n",
    "X_train, X_test, y_train, y_test = train_test_split(X, y, test_size=0.2, random_state=42)"
   ]
  },
  {
   "cell_type": "code",
   "execution_count": 41,
   "id": "87e6bd4c-c3c4-4c35-8c68-c478f212eaef",
   "metadata": {},
   "outputs": [],
   "source": [
    "# Modeli oluşturalım ve eğitelim.\n",
    "model = DecisionTreeRegressor().fit(X_train, y_train)"
   ]
  },
  {
   "cell_type": "code",
   "execution_count": 42,
   "id": "32c82570-d468-4b91-ab04-69ba548ba04f",
   "metadata": {},
   "outputs": [],
   "source": [
    "# Tahmin Yapalım.\n",
    "y_pred = model.predict(X_test)"
   ]
  },
  {
   "cell_type": "code",
   "execution_count": 43,
   "id": "e7142094-ebda-4834-820b-471198cb7f18",
   "metadata": {},
   "outputs": [
    {
     "name": "stdout",
     "output_type": "stream",
     "text": [
      "R^2:  0.375\n",
      "MSE:  625000.0\n",
      "RMSE:  790.5694150420949\n"
     ]
    }
   ],
   "source": [
    "# Modeli Değerlendirelim.\n",
    "r2 = r2_score(y_test, y_pred)\n",
    "mse = mean_squared_error(y_test, y_pred)\n",
    "rmse = np.sqrt(mse)\n",
    "\n",
    "print('R^2: ', r2)\n",
    "print('MSE: ', mse)\n",
    "print('RMSE: ', rmse)"
   ]
  },
  {
   "cell_type": "markdown",
   "id": "8a110457-a7ad-4c5f-8194-1292505acd02",
   "metadata": {},
   "source": [
    "### Kategorik Hava Durumu değişkenini sayısal değişkene çevirip bağımsız değişkenlere eklediğimde, kök ortalama kare hata değeri 780'lerde çıkıyor. Fakat Hava Durumu değişkenini bağımsız değişkenlerden çıkarttığımda bu değer 500'lere düşüyor. Bu yüzden hava durumu değişkenini çıkartıp modeli öyle kurdum.  Belki kategorik değişkeni sayısal değişkene çevirdikten sonra standartlaştırma işlemi yapmamız gerekiyordur. "
   ]
  },
  {
   "cell_type": "markdown",
   "id": "36b7df7c-9a91-488e-bec7-d5a4bdd6e476",
   "metadata": {},
   "source": [
    "# Model Tuning "
   ]
  },
  {
   "cell_type": "code",
   "execution_count": 44,
   "id": "025f627f-1314-4a9e-ad89-922a656e6d1c",
   "metadata": {},
   "outputs": [
    {
     "data": {
      "text/plain": [
       "{'ccp_alpha': 0.0,\n",
       " 'criterion': 'squared_error',\n",
       " 'max_depth': None,\n",
       " 'max_features': None,\n",
       " 'max_leaf_nodes': None,\n",
       " 'min_impurity_decrease': 0.0,\n",
       " 'min_samples_leaf': 1,\n",
       " 'min_samples_split': 2,\n",
       " 'min_weight_fraction_leaf': 0.0,\n",
       " 'random_state': None,\n",
       " 'splitter': 'best'}"
      ]
     },
     "execution_count": 44,
     "metadata": {},
     "output_type": "execute_result"
    }
   ],
   "source": [
    "model.get_params()"
   ]
  },
  {
   "cell_type": "code",
   "execution_count": 45,
   "id": "6094dd7d-2976-4d5c-8c0b-b5a73b4bd8c6",
   "metadata": {},
   "outputs": [
    {
     "name": "stdout",
     "output_type": "stream",
     "text": [
      "Best Parameters:  {'max_depth': 3, 'min_samples_leaf': 1, 'min_samples_split': 3}\n"
     ]
    }
   ],
   "source": [
    "import warnings\n",
    "warnings.filterwarnings('ignore')\n",
    "params = {\n",
    "    'max_depth': range(3, 10),\n",
    "    'min_samples_split': range(3, 10),\n",
    "    'min_samples_leaf': range(1, 13)\n",
    "}\n",
    "\n",
    "grid = GridSearchCV(estimator=model, param_grid=params, cv=5)\n",
    "grid.fit(X_train, y_train)\n",
    "\n",
    "best_params = grid.best_params_\n",
    "\n",
    "print('Best Parameters: ', best_params)"
   ]
  },
  {
   "cell_type": "markdown",
   "id": "5ee64667-946a-4811-a82e-fabdfa7c7df0",
   "metadata": {},
   "source": [
    "## Model Tuning işlemi sonucunda elde ettiğimiz hiperparametreleri kullanarak yeni modelimizi oluşturalım."
   ]
  },
  {
   "cell_type": "code",
   "execution_count": 46,
   "id": "7b45991d-e621-4a20-8664-8bdfaa364d63",
   "metadata": {},
   "outputs": [
    {
     "data": {
      "text/plain": [
       "DecisionTreeRegressor(max_depth=3, min_samples_split=3)"
      ]
     },
     "execution_count": 46,
     "metadata": {},
     "output_type": "execute_result"
    }
   ],
   "source": [
    "model = DecisionTreeRegressor(max_depth=3, min_samples_leaf=1, min_samples_split=3)\n",
    "model.fit(X_train, y_train)"
   ]
  },
  {
   "cell_type": "code",
   "execution_count": 47,
   "id": "970795e2-3a6a-48b9-928e-a872cfe399af",
   "metadata": {},
   "outputs": [],
   "source": [
    "y_pred = model.predict(X_test)"
   ]
  },
  {
   "cell_type": "code",
   "execution_count": 48,
   "id": "de16bf9a-3073-4888-8929-2bd2d9db334a",
   "metadata": {},
   "outputs": [
    {
     "name": "stdout",
     "output_type": "stream",
     "text": [
      "R^2:  0.59375\n",
      "MSE:  406250.0\n",
      "RMSE:  637.3774391990981\n"
     ]
    }
   ],
   "source": [
    "r2 = r2_score(y_test, y_pred)\n",
    "mse = mean_squared_error(y_test, y_pred)\n",
    "rmse = np.sqrt(mse)\n",
    "\n",
    "print('R^2: ', r2)\n",
    "print('MSE: ', mse)\n",
    "print('RMSE: ', rmse)"
   ]
  },
  {
   "cell_type": "code",
   "execution_count": 49,
   "id": "78e70bc9-2fac-44e0-b78d-8fce2cb1d84e",
   "metadata": {},
   "outputs": [
    {
     "data": {
      "image/png": "[encoded data removed]",
      "text/plain": [
       "<Figure size 864x432 with 1 Axes>"
      ]
     },
     "metadata": {
      "needs_background": "light"
     },
     "output_type": "display_data"
    }
   ],
   "source": [
    "plt.figure(figsize=(12, 6))\n",
    "sns.scatterplot(x=y_test, y=y_pred, color='blue')\n",
    "plt.xlabel('Gerçek Değerler')\n",
    "plt.ylabel('Tahmin Değerleri')\n",
    "plt.title('Gerçek Değerler vs. Tahmin Değerleri')\n",
    "plt.show()"
   ]
  },
  {
   "cell_type": "markdown",
   "id": "143da7eb-8645-4901-a1fa-f30d73f1d3ac",
   "metadata": {},
   "source": [
    "# Tahmin"
   ]
  },
  {
   "cell_type": "code",
   "execution_count": 70,
   "id": "29511364-8f6e-4b3d-8700-47af50270788",
   "metadata": {},
   "outputs": [
    {
     "name": "stdin",
     "output_type": "stream",
     "text": [
      "Lütfen Masa Sayısı Giriniz:  55\n",
      "Lütfen Reklam Harcamalarınızı Giriniz:  1000\n"
     ]
    },
    {
     "name": "stdout",
     "output_type": "stream",
     "text": [
      "Tahmini Gelir:  7500.0\n"
     ]
    }
   ],
   "source": [
    "masa_sayisi = int(input('Lütfen Masa Sayısı Giriniz: '))\n",
    "reklam_harcamalari = int(input('Lütfen Reklam Harcamalarınızı Giriniz: '))\n",
    "\n",
    "inputt = np.array([[masa_sayisi, reklam_harcamalari]])\n",
    "input_pred = model.predict(inputt)\n",
    "\n",
    "print('Tahmini Gelir: ', float(input_pred))"
   ]
  }
 ],
 "metadata": {
  "kernelspec": {
   "display_name": "Python 3 (ipykernel)",
   "language": "python",
   "name": "python3"
  },
  "language_info": {
   "codemirror_mode": {
    "name": "ipython",
    "version": 3
   },
   "file_extension": ".py",
   "mimetype": "text/x-python",
   "name": "python",
   "nbconvert_exporter": "python",
   "pygments_lexer": "ipython3",
   "version": "3.9.12"
  }
 },
 "nbformat": 4,
 "nbformat_minor": 5
}
